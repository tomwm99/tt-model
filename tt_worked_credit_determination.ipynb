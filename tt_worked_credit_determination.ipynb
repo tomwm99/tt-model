{
 "cells": [
  {
   "cell_type": "code",
   "execution_count": 15,
   "metadata": {},
   "outputs": [],
   "source": [
    "def calculate_monthly_credit_limit(monthly_income, credit_score):\n",
    "    \"\"\"\n",
    "    Calculate a safe monthly credit limit based on verified monthly income and Experian credit score.\n",
    "    Ensures the monthly repayment (interest-only at 2%) does not exceed 40% of income.\n",
    "\n",
    "    Parameters:\n",
    "    - monthly_income (float): Verified monthly income in USD.\n",
    "    - credit_score (int): FICO credit score (range: 300–850), based on Experian's scale.\n",
    "\n",
    "    Returns:\n",
    "    - monthly_credit_limit (float): Final approved credit amount for the current month, in USD.\n",
    "    \"\"\"\n",
    "    monthly_interest_rate = 0.02\n",
    "    max_monthly_credit_limit = (0.40 * monthly_income) / monthly_interest_rate\n",
    "\n",
    "    if credit_score < 580:\n",
    "        adjustment_factor = 0.5  # Very Poor\n",
    "    elif credit_score < 670:\n",
    "        adjustment_factor = 0.7  # Fair\n",
    "    elif credit_score < 740:\n",
    "        adjustment_factor = 0.85  # Good\n",
    "    else:\n",
    "        adjustment_factor = 1.0  # Very Good or Exceptional\n",
    "\n",
    "    monthly_credit_limit = max_monthly_credit_limit * adjustment_factor\n",
    "\n",
    "    return round(monthly_credit_limit, 2)"
   ]
  },
  {
   "cell_type": "code",
   "execution_count": 16,
   "metadata": {},
   "outputs": [
    {
     "name": "stdout",
     "output_type": "stream",
     "text": [
      "=== Monthly Credit Limit Calculation ===\n",
      "Applicant's Monthly Income: $5000\n",
      "Applicant's Credit Score: 650\n",
      "Maximum allowable monthly repayment (40% of income): $2000.00\n",
      "Maximum credit limit (interest-only) before credit score adjustment:\n",
      "  = max monthly repayment / monthly interest rate\n",
      "  = $2000.00 / 0.02\n",
      "  = $100000.00\n",
      "Credit score band: Fair\n",
      "Adjustment factor applied: 70%\n",
      "Final approved monthly credit limit:\n",
      "  = 0.7 × $100000.00 = $70000.00\n"
     ]
    }
   ],
   "source": [
    "# ==== Example usage ====\n",
    "\n",
    "income = 5000        # Monthly income = $5,000\n",
    "score = 650          # Credit score = 650 (Fair)\n",
    "\n",
    "print(\"=== Monthly Credit Limit Calculation ===\")\n",
    "print(f\"Applicant's Monthly Income: ${income}\")\n",
    "print(f\"Applicant's Credit Score: {score}\")\n",
    "\n",
    "# Step 1: Calculate max monthly repayment allowed (40% of income)\n",
    "max_monthly_payment = 0.40 * income\n",
    "print(f\"Maximum allowable monthly repayment (40% of income): ${max_monthly_payment:.2f}\")\n",
    "\n",
    "# Step 2: Calculate max credit limit before credit score adjustment\n",
    "monthly_interest_rate = 0.02\n",
    "max_credit_limit = max_monthly_payment / monthly_interest_rate\n",
    "print(f\"Maximum credit limit (interest-only) before credit score adjustment:\")\n",
    "print(f\"  = max monthly repayment / monthly interest rate\")\n",
    "print(f\"  = ${max_monthly_payment:.2f} / {monthly_interest_rate}\")\n",
    "print(f\"  = ${max_credit_limit:.2f}\")\n",
    "\n",
    "# Step 3: Determine adjustment factor based on credit score\n",
    "if score < 580:\n",
    "    factor = 0.5\n",
    "    score_band = \"Very Poor\"\n",
    "elif score < 670:\n",
    "    factor = 0.7\n",
    "    score_band = \"Fair\"\n",
    "elif score < 740:\n",
    "    factor = 0.85\n",
    "    score_band = \"Good\"\n",
    "else:\n",
    "    factor = 1.0\n",
    "    score_band = \"Very Good or Exceptional\"\n",
    "\n",
    "print(f\"Credit score band: {score_band}\")\n",
    "print(f\"Adjustment factor applied: {factor * 100:.0f}%\")\n",
    "\n",
    "# Step 4: Calculate final approved monthly credit limit\n",
    "approved_limit = max_credit_limit * factor\n",
    "print(f\"Final approved monthly credit limit:\")\n",
    "print(f\"  = {factor} × ${max_credit_limit:.2f} = ${approved_limit:.2f}\")\n",
    "\n",
    "# Using the function directly\n",
    "limit_from_function = calculate_monthly_credit_limit(income, score)"
   ]
  }
 ],
 "metadata": {
  "kernelspec": {
   "display_name": "Python 3",
   "language": "python",
   "name": "python3"
  },
  "language_info": {
   "codemirror_mode": {
    "name": "ipython",
    "version": 3
   },
   "file_extension": ".py",
   "mimetype": "text/x-python",
   "name": "python",
   "nbconvert_exporter": "python",
   "pygments_lexer": "ipython3",
   "version": "3.9.6"
  }
 },
 "nbformat": 4,
 "nbformat_minor": 2
}
